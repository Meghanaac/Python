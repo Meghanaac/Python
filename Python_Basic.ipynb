{
  "nbformat": 4,
  "nbformat_minor": 0,
  "metadata": {
    "colab": {
      "provenance": [],
      "authorship_tag": "ABX9TyNL5lld9SO5FtfFqPbYrtbf",
      "include_colab_link": true
    },
    "kernelspec": {
      "name": "python3",
      "display_name": "Python 3"
    },
    "language_info": {
      "name": "python"
    }
  },
  "cells": [
    {
      "cell_type": "markdown",
      "metadata": {
        "id": "view-in-github",
        "colab_type": "text"
      },
      "source": [
        "<a href=\"https://colab.research.google.com/github/Meghanaac/Python/blob/main/Python_Basic.ipynb\" target=\"_parent\"><img src=\"https://colab.research.google.com/assets/colab-badge.svg\" alt=\"Open In Colab\"/></a>"
      ]
    },
    {
      "cell_type": "code",
      "execution_count": null,
      "metadata": {
        "colab": {
          "base_uri": "https://localhost:8080/"
        },
        "id": "ZpeoBLVwqXqZ",
        "outputId": "e9735031-ee63-4185-bfcf-6be23cd6344c"
      },
      "outputs": [
        {
          "output_type": "stream",
          "name": "stdout",
          "text": [
            "Hello World!\n"
          ]
        }
      ],
      "source": [
        "print(\"Hello World!\")"
      ]
    },
    {
      "cell_type": "code",
      "source": [
        " x = 2"
      ],
      "metadata": {
        "id": "PDr25tPJryOV"
      },
      "execution_count": null,
      "outputs": []
    },
    {
      "cell_type": "code",
      "source": [
        "print(x)"
      ],
      "metadata": {
        "colab": {
          "base_uri": "https://localhost:8080/"
        },
        "id": "vlw-bbnTr28z",
        "outputId": "05c7c385-f1e1-4c34-df78-c16582bb09a2"
      },
      "execution_count": null,
      "outputs": [
        {
          "output_type": "stream",
          "name": "stdout",
          "text": [
            "2\n"
          ]
        }
      ]
    },
    {
      "cell_type": "code",
      "source": [
        "print(x)"
      ],
      "metadata": {
        "colab": {
          "base_uri": "https://localhost:8080/"
        },
        "id": "E6bHRwtUsb8s",
        "outputId": "23c321b0-f1b3-4b82-eb8a-f27923dca617"
      },
      "execution_count": null,
      "outputs": [
        {
          "output_type": "stream",
          "name": "stdout",
          "text": [
            "2\n"
          ]
        }
      ]
    },
    {
      "cell_type": "code",
      "source": [
        "x =20"
      ],
      "metadata": {
        "id": "WKrtWYaWsrpd"
      },
      "execution_count": null,
      "outputs": []
    },
    {
      "cell_type": "code",
      "source": [
        "type(x)\n"
      ],
      "metadata": {
        "colab": {
          "base_uri": "https://localhost:8080/"
        },
        "id": "GgCKY9eLsytN",
        "outputId": "7fcd5c09-eb1d-48fb-ed5e-dd97295d02d7"
      },
      "execution_count": null,
      "outputs": [
        {
          "output_type": "execute_result",
          "data": {
            "text/plain": [
              "int"
            ]
          },
          "metadata": {},
          "execution_count": 9
        }
      ]
    },
    {
      "cell_type": "code",
      "source": [
        "import math\n",
        "math.sqrt(225)"
      ],
      "metadata": {
        "colab": {
          "base_uri": "https://localhost:8080/"
        },
        "id": "ouqKG_F-uL_h",
        "outputId": "d3a55ba5-8498-4a87-b4aa-7277ba16bdcf"
      },
      "execution_count": null,
      "outputs": [
        {
          "output_type": "execute_result",
          "data": {
            "text/plain": [
              "15.0"
            ]
          },
          "metadata": {},
          "execution_count": 10
        }
      ]
    },
    {
      "cell_type": "code",
      "source": [
        "round(743587.4582,2)"
      ],
      "metadata": {
        "colab": {
          "base_uri": "https://localhost:8080/"
        },
        "id": "yOT0VyETuaok",
        "outputId": "3b0f9fd9-781a-4560-a135-77e7c76b3f44"
      },
      "execution_count": null,
      "outputs": [
        {
          "output_type": "execute_result",
          "data": {
            "text/plain": [
              "743587.46"
            ]
          },
          "metadata": {},
          "execution_count": 13
        }
      ]
    },
    {
      "cell_type": "code",
      "source": [
        "3 > 5"
      ],
      "metadata": {
        "colab": {
          "base_uri": "https://localhost:8080/"
        },
        "id": "H8s24yosu2vB",
        "outputId": "4f24317d-b12a-491c-e224-5a28842b41f2"
      },
      "execution_count": null,
      "outputs": [
        {
          "output_type": "execute_result",
          "data": {
            "text/plain": [
              "False"
            ]
          },
          "metadata": {},
          "execution_count": 14
        }
      ]
    },
    {
      "cell_type": "code",
      "source": [
        "7 < 25"
      ],
      "metadata": {
        "colab": {
          "base_uri": "https://localhost:8080/"
        },
        "id": "QNpI_J09u5nu",
        "outputId": "3adbe95f-40ef-4441-ce8d-7a524e6d0127"
      },
      "execution_count": null,
      "outputs": [
        {
          "output_type": "execute_result",
          "data": {
            "text/plain": [
              "True"
            ]
          },
          "metadata": {},
          "execution_count": 15
        }
      ]
    },
    {
      "cell_type": "code",
      "source": [
        "10 == 20\n",
        "10 == 10"
      ],
      "metadata": {
        "colab": {
          "base_uri": "https://localhost:8080/"
        },
        "id": "FPD5dYqZu9Bm",
        "outputId": "ba7e8764-b6ed-40a5-ac4a-7f503c8b73e0"
      },
      "execution_count": null,
      "outputs": [
        {
          "output_type": "execute_result",
          "data": {
            "text/plain": [
              "True"
            ]
          },
          "metadata": {},
          "execution_count": 16
        }
      ]
    },
    {
      "cell_type": "code",
      "source": [
        "print(10+20)\n",
        "print(20-10)\n",
        "print(10*20)\n",
        "print(20/10)\n",
        "print(10 == 10)\n",
        "print(10 != 10)\n",
        "print(10 < 20)\n",
        "print(10 > 20)\n",
        "print((10 > 3)|(10 == 5))\n",
        "print((10 > 3)&(10 == 5))\n",
        "print(not(10< 3))"
      ],
      "metadata": {
        "colab": {
          "base_uri": "https://localhost:8080/"
        },
        "id": "B9AJmQ2nvFO9",
        "outputId": "23db5cae-e845-4fbc-a4c5-e1b88ed03436"
      },
      "execution_count": null,
      "outputs": [
        {
          "output_type": "stream",
          "name": "stdout",
          "text": [
            "30\n",
            "10\n",
            "200\n",
            "2.0\n",
            "True\n",
            "False\n",
            "True\n",
            "False\n",
            "True\n",
            "False\n",
            "True\n"
          ]
        }
      ]
    },
    {
      "cell_type": "code",
      "source": [
        "i = 0\n",
        "while i <= 5:\n",
        "  print(i)\n",
        "  i = i +1\n",
        "print(\"While Loop ends\")"
      ],
      "metadata": {
        "colab": {
          "base_uri": "https://localhost:8080/"
        },
        "id": "Z_TSw-ECzQQA",
        "outputId": "f84b1255-fbe4-4e1c-ec87-9a768bf1bfaa"
      },
      "execution_count": null,
      "outputs": [
        {
          "output_type": "stream",
          "name": "stdout",
          "text": [
            "0\n",
            "1\n",
            "2\n",
            "3\n",
            "4\n",
            "5\n",
            "While Loop ends\n"
          ]
        }
      ]
    },
    {
      "cell_type": "code",
      "source": [
        "print(range(5))\n",
        "list(range(5))"
      ],
      "metadata": {
        "colab": {
          "base_uri": "https://localhost:8080/"
        },
        "id": "od9kTCBo0OkB",
        "outputId": "2bf2e21d-862f-41fc-de7a-6091320b77b7"
      },
      "execution_count": null,
      "outputs": [
        {
          "output_type": "stream",
          "name": "stdout",
          "text": [
            "range(0, 5)\n"
          ]
        },
        {
          "output_type": "execute_result",
          "data": {
            "text/plain": [
              "[0, 1, 2, 3, 4]"
            ]
          },
          "metadata": {},
          "execution_count": 34
        }
      ]
    },
    {
      "cell_type": "code",
      "source": [
        "m = 12\n",
        "for i in range (m):\n",
        "  print(i)"
      ],
      "metadata": {
        "colab": {
          "base_uri": "https://localhost:8080/"
        },
        "id": "YsTVV1tG23dE",
        "outputId": "c4b8a67d-2834-496b-a2bd-0e2e46ea2d9a"
      },
      "execution_count": null,
      "outputs": [
        {
          "output_type": "stream",
          "name": "stdout",
          "text": [
            "0\n",
            "1\n",
            "2\n",
            "3\n",
            "4\n",
            "5\n",
            "6\n",
            "7\n",
            "8\n",
            "9\n",
            "10\n",
            "11\n"
          ]
        }
      ]
    },
    {
      "cell_type": "code",
      "source": [
        "import numpy as np\n",
        "from numpy.random import randn\n",
        "x = randn()\n",
        "if x>1:\n",
        "  result = \"greater than 1\"\n",
        "print(x)\n",
        "print(result)"
      ],
      "metadata": {
        "colab": {
          "base_uri": "https://localhost:8080/"
        },
        "id": "25esRoPO4PxT",
        "outputId": "f1b5602b-079e-4fe9-d21b-76dc3bc7dbc8"
      },
      "execution_count": null,
      "outputs": [
        {
          "output_type": "stream",
          "name": "stdout",
          "text": [
            "1.0607492397722538\n",
            "greater than 1\n"
          ]
        }
      ]
    },
    {
      "cell_type": "code",
      "source": [
        "x = randn()\n",
        "if x>1:\n",
        "  result = \"greater than 1\"\n",
        "else :\n",
        "  result = \"less than 1\"\n",
        "print(x)\n",
        "print(result)"
      ],
      "metadata": {
        "colab": {
          "base_uri": "https://localhost:8080/"
        },
        "id": "rhnPkH6Z5qyH",
        "outputId": "ff79bc4e-dbf9-4d55-fabd-63d6f4932840"
      },
      "execution_count": null,
      "outputs": [
        {
          "output_type": "stream",
          "name": "stdout",
          "text": [
            "-0.5960972385196095\n",
            "less than 1\n"
          ]
        }
      ]
    },
    {
      "cell_type": "code",
      "source": [
        "x = randn()\n",
        "if x>1:\n",
        "  result = \"greater than 1\"\n",
        "elif x < -1 :\n",
        "  result = \"less than -1\"\n",
        "else:\n",
        "  result = \"between -1 and 1\"\n",
        "print(x)\n",
        "print(result)"
      ],
      "metadata": {
        "colab": {
          "base_uri": "https://localhost:8080/"
        },
        "id": "jrUK3f0L7uxK",
        "outputId": "7ce0ee04-dfba-49cb-a2ef-84377c188330"
      },
      "execution_count": 66,
      "outputs": [
        {
          "output_type": "stream",
          "name": "stdout",
          "text": [
            "0.27833282918334595\n",
            "between -1 and 1\n"
          ]
        }
      ]
    },
    {
      "cell_type": "code",
      "source": [
        "a = [1,2,3,'abc',True,20.556]\n",
        "print(a[0])\n",
        "print(a[4])\n",
        "print(a)\n",
        "print(a[-1])\n",
        "a[1] = \"xyz\"\n",
        "print(a)\n",
        "print(a[4:])\n",
        "print(a[::2])\n",
        "print(a[::-1])\n",
        "type(a)"
      ],
      "metadata": {
        "colab": {
          "base_uri": "https://localhost:8080/"
        },
        "id": "-nHxLW66Ipar",
        "outputId": "d8381f40-8c6f-4601-afa3-530d38125d42"
      },
      "execution_count": 78,
      "outputs": [
        {
          "output_type": "stream",
          "name": "stdout",
          "text": [
            "1\n",
            "True\n",
            "[1, 2, 3, 'abc', True, 20.556]\n",
            "20.556\n",
            "[1, 'xyz', 3, 'abc', True, 20.556]\n",
            "[True, 20.556]\n",
            "[1, 3, True]\n",
            "[20.556, True, 'abc', 3, 'xyz', 1]\n"
          ]
        },
        {
          "output_type": "execute_result",
          "data": {
            "text/plain": [
              "list"
            ]
          },
          "metadata": {},
          "execution_count": 78
        }
      ]
    },
    {
      "cell_type": "code",
      "source": [
        "a = (1,2,3,'abc',True,20.556)\n",
        "print(a[0])\n",
        "print(a[4])\n",
        "print(a)\n",
        "print(a[-1])\n",
        "#a[1] = \"xyz\"\n",
        "print(a)\n",
        "print(a[4:])\n",
        "print(a[::2])\n",
        "print(a[::-1])\n",
        "type(a)"
      ],
      "metadata": {
        "colab": {
          "base_uri": "https://localhost:8080/"
        },
        "id": "8SEB1oJHNYva",
        "outputId": "d2b037ea-f5c9-4c49-8b8c-25c074fbb4a1"
      },
      "execution_count": 81,
      "outputs": [
        {
          "output_type": "stream",
          "name": "stdout",
          "text": [
            "1\n",
            "True\n",
            "(1, 2, 3, 'abc', True, 20.556)\n",
            "20.556\n",
            "(1, 2, 3, 'abc', True, 20.556)\n",
            "(True, 20.556)\n",
            "(1, 3, True)\n",
            "(20.556, True, 'abc', 3, 2, 1)\n"
          ]
        },
        {
          "output_type": "execute_result",
          "data": {
            "text/plain": [
              "tuple"
            ]
          },
          "metadata": {},
          "execution_count": 81
        }
      ]
    },
    {
      "cell_type": "code",
      "source": [
        "print(range(9))\n",
        "print(a)\n",
        "print(len(a))\n",
        "print(type(a))\n",
        "print(max(10,20))\n",
        "print(min(10,20))\n",
        "      \n"
      ],
      "metadata": {
        "colab": {
          "base_uri": "https://localhost:8080/"
        },
        "id": "vr6FDlWYOEV8",
        "outputId": "06c85f89-e43d-4633-aa0d-75f33b5fe9d8"
      },
      "execution_count": 85,
      "outputs": [
        {
          "output_type": "stream",
          "name": "stdout",
          "text": [
            "range(0, 9)\n",
            "(1, 2, 3, 'abc', True, 20.556)\n",
            "6\n",
            "<class 'tuple'>\n",
            "20\n",
            "10\n"
          ]
        }
      ]
    }
  ]
}